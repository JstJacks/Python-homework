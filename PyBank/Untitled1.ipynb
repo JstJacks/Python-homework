{
 "cells": [
  {
   "cell_type": "code",
   "execution_count": 8,
   "id": "7bcd6b19-1142-49b2-8b01-7aa4425a6eec",
   "metadata": {},
   "outputs": [],
   "source": []
  },
  {
   "cell_type": "code",
   "execution_count": 21,
   "id": "04f2786e-af00-490f-96c7-afdaa7f4f057",
   "metadata": {},
   "outputs": [
    {
     "ename": "TypeError",
     "evalue": "'int' object is not iterable",
     "output_type": "error",
     "traceback": [
      "\u001b[1;31m---------------------------------------------------------------------------\u001b[0m",
      "\u001b[1;31mTypeError\u001b[0m                                 Traceback (most recent call last)",
      "\u001b[1;32m~\\AppData\\Local\\Temp/ipykernel_6180/1017348033.py\u001b[0m in \u001b[0;36m<module>\u001b[1;34m\u001b[0m\n\u001b[0;32m     93\u001b[0m \u001b[0mmax_diff\u001b[0m \u001b[1;33m=\u001b[0m \u001b[1;36m0\u001b[0m\u001b[1;33m\u001b[0m\u001b[1;33m\u001b[0m\u001b[0m\n\u001b[0;32m     94\u001b[0m \u001b[0mmax_elem\u001b[0m \u001b[1;33m=\u001b[0m \u001b[1;33m-\u001b[0m\u001b[1;36m1\u001b[0m\u001b[1;33m\u001b[0m\u001b[1;33m\u001b[0m\u001b[0m\n\u001b[1;32m---> 95\u001b[1;33m \u001b[1;32mfor\u001b[0m \u001b[0ma\u001b[0m\u001b[1;33m,\u001b[0m\u001b[0mb\u001b[0m \u001b[1;32min\u001b[0m \u001b[0mzip\u001b[0m\u001b[1;33m(\u001b[0m\u001b[0mdates\u001b[0m\u001b[1;33m,\u001b[0m \u001b[0mpnl\u001b[0m\u001b[1;33m)\u001b[0m \u001b[1;33m:\u001b[0m\u001b[1;33m\u001b[0m\u001b[1;33m\u001b[0m\u001b[0m\n\u001b[0m\u001b[0;32m     96\u001b[0m     \u001b[0mdiff\u001b[0m \u001b[1;33m=\u001b[0m \u001b[0mabs\u001b[0m\u001b[1;33m(\u001b[0m\u001b[0ma\u001b[0m\u001b[1;33m[\u001b[0m\u001b[1;36m1\u001b[0m\u001b[1;33m]\u001b[0m\u001b[1;33m-\u001b[0m\u001b[0mb\u001b[0m\u001b[1;33m[\u001b[0m\u001b[1;36m1\u001b[0m\u001b[1;33m]\u001b[0m\u001b[1;33m)\u001b[0m\u001b[1;33m\u001b[0m\u001b[1;33m\u001b[0m\u001b[0m\n\u001b[0;32m     97\u001b[0m     \u001b[1;32mif\u001b[0m \u001b[0mdiff\u001b[0m \u001b[1;33m>\u001b[0m \u001b[0mmax_diff\u001b[0m \u001b[1;33m:\u001b[0m\u001b[1;33m\u001b[0m\u001b[1;33m\u001b[0m\u001b[0m\n",
      "\u001b[1;31mTypeError\u001b[0m: 'int' object is not iterable"
     ]
    }
   ],
   "source": [
    "pnl = {\n",
    "    \"Jan-2010\":867884,\n",
    "    \"Feb-2010\":984655,\n",
    "    \"Mar-2010\":322013,\n",
    "    \"Apr-2010\":-69417,\n",
    "    \"May-2010\":310503,\n",
    "    'Jun-2010':522857,\n",
    "    'Jul-2010':1033096,\n",
    "    'Aug-2010':604885,\n",
    "    'Sep-2010':-216386,\n",
    "    'Oct-2010':477532,\n",
    "    'Nov-2010':893810,\n",
    "    'Dec-2010':-80353,\n",
    "    'Jan-2011':779806,\n",
    "    'Feb-2011':-335203,\n",
    "    'Mar-2011':697845,\n",
    "    'Apr-2011':793163,\n",
    "    'May-2011':485070,\n",
    "    'Jun-2011':584122,\n",
    "    'Jul-2011':62729,\n",
    "    'Aug-2011':668179,\n",
    "    'Sep-2011':899906,\n",
    "    'Oct-2011':834719,\n",
    "    'Nov-2011':132003,\n",
    "    'Dec-2011':309978,\n",
    "    'Jan-2012':-755566,\n",
    "    'Feb-2012':1170593,\n",
    "    'Mar-2012':252788,\n",
    "    'Apr-2012':1151518,\n",
    "    'May-2012':817256,\n",
    "    'Jun-2012':570757,\n",
    "    'Jul-2012':506702,\n",
    "    'Aug-2012':-1022534,\n",
    "    'Sep-2012':475062,\n",
    "    'Oct-2012':779976,\n",
    "    'Nov-2012':144175,\n",
    "    'Dec-2012':542494,\n",
    "    'Jan-2013':359333,\n",
    "    'Feb-2013':321469,\n",
    "    'Mar-2013':67780,\n",
    "    'Apr-2013':471435,\n",
    "    'May-2013':565603,\n",
    "    'Jun-2013':872480,\n",
    "    'Jul-2013':789480,\n",
    "    'Aug-2013':999942,\n",
    "    'Sep-2013':-1196225,\n",
    "    'Oct-2013':268997,\n",
    "    'Nov-2013':-687986,\n",
    "    'Dec-2013':1150461,\n",
    "    'Jan-2014':682458,\n",
    "    'Feb-2014':617856,\n",
    "    'Mar-2014':824098,\n",
    "    'Apr-2014':581943,\n",
    "    'May-2014':132864,\n",
    "    'Jun-2014':448062,\n",
    "    'Jul-2014':689161,\n",
    "    'Aug-2014':800701,\n",
    "    'Sep-2014':1166643,\n",
    "    'Oct-2014':947333,\n",
    "    'Nov-2014':578668,\n",
    "    'Dec-2014':988505,\n",
    "    'Jan-2015':1139715,\n",
    "    'Feb-2015':1029471,\n",
    "    'Mar-2015':687533,\n",
    "    'Apr-2015':-524626,\n",
    "    'May-2015':158620,\n",
    "    'Jun-2015':87795,\n",
    "    'Jul-2015':423389,\n",
    "    'Aug-2015':840723,\n",
    "    'Sep-2015':568529,\n",
    "    'Oct-2015':332067,\n",
    "    'Nov-2015':989499,\n",
    "    'Dec-2015':778237,\n",
    "    'Jan-2016':650000,\n",
    "    'Feb-2016':-1100387,\n",
    "    'Mar-2016':-174946,\n",
    "    'Apr-2016':757143,\n",
    "    'May-2016':445709,\n",
    "    'Jun-2016':712961,\n",
    "    'Jul-2016':-1163797,\n",
    "    'Aug-2016':569899,\n",
    "    'Sep-2016':768450,\n",
    "    'Oct-2016':102685,\n",
    "    'Nov-2016':795914,\n",
    "    'Dec-2016':60988,\n",
    "    'Jan-2017':138230,\n",
    "    'Feb-2017':671099,\n",
    "    \n",
    "}\n",
    "\n",
    "dates = \" \"\n",
    "pnl = 0\n",
    "max_diff = 0\n",
    "max_elem = -1\n",
    "for a,b in zip(dates, pnl) :\n",
    "    diff = abs(a[1]-b[1])\n",
    "    if diff > max_diff :\n",
    "        max_diff = diff\n",
    "        max_elem = b  # or a\n",
    "\n",
    "print(max_diff, max_elem)\n"
   ]
  },
  {
   "cell_type": "code",
   "execution_count": 23,
   "id": "128c6881-ae43-4a51-98f2-7dcc4f1d2974",
   "metadata": {},
   "outputs": [
    {
     "name": "stdout",
     "output_type": "stream",
     "text": [
      "3\n"
     ]
    }
   ],
   "source": []
  },
  {
   "cell_type": "code",
   "execution_count": null,
   "id": "27b1a2e2-3581-4cc5-a570-4c44c7a5dfe2",
   "metadata": {},
   "outputs": [],
   "source": []
  },
  {
   "cell_type": "code",
   "execution_count": null,
   "id": "06cf67de-ba59-4dc0-beb1-87ebfead8d04",
   "metadata": {},
   "outputs": [],
   "source": []
  },
  {
   "cell_type": "code",
   "execution_count": null,
   "id": "6e152d3b-7bfe-40d7-8182-f800c68a5fda",
   "metadata": {},
   "outputs": [],
   "source": []
  }
 ],
 "metadata": {
  "kernelspec": {
   "display_name": "Python 3 (ipykernel)",
   "language": "python",
   "name": "python3"
  },
  "language_info": {
   "codemirror_mode": {
    "name": "ipython",
    "version": 3
   },
   "file_extension": ".py",
   "mimetype": "text/x-python",
   "name": "python",
   "nbconvert_exporter": "python",
   "pygments_lexer": "ipython3",
   "version": "3.9.7"
  }
 },
 "nbformat": 4,
 "nbformat_minor": 5
}
